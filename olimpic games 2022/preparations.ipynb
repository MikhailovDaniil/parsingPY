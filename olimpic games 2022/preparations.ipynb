{
 "cells": [
  {
   "cell_type": "markdown",
   "id": "1bc53426",
   "metadata": {},
   "source": [
    "# Google \"News\" tab web scraping"
   ]
  },
  {
   "cell_type": "markdown",
   "id": "d20c792d",
   "metadata": {},
   "source": [
    "## I decided to collect first 10 pages of news about the olimpic games 2022 in google's news tab (Russian language)"
   ]
  },
  {
   "cell_type": "markdown",
   "id": "71ac8c0b",
   "metadata": {},
   "source": [
    "### This can be really useful if we want to analyze news topics (for example, how different news affilates tell people about ups and downs of their country or what they write about any doping scandals)"
   ]
  },
  {
   "cell_type": "markdown",
   "id": "02601f09",
   "metadata": {},
   "source": [
    "### Of course, this code is universal in some way: to collect the information about others topics (or change the amount of loaded data) you just need to change some symbols in this code"
   ]
  },
  {
   "cell_type": "code",
   "execution_count": 3,
   "id": "7925854b",
   "metadata": {},
   "outputs": [],
   "source": [
    "from bs4 import BeautifulSoup\n",
    "from selenium.webdriver import Chrome\n",
    "from selenium.webdriver.common.by import By\n",
    "from selenium.webdriver.common.keys import Keys\n",
    "from selenium.webdriver.chrome.service import Service\n",
    "from selenium.webdriver.support.ui import WebDriverWait as wait\n",
    "from selenium.webdriver.support import expected_conditions as EC\n",
    "from selenium.common.exceptions import NoSuchElementException\n",
    "from time import sleep\n",
    "from tqdm import tqdm\n",
    "import pandas as pd"
   ]
  },
  {
   "cell_type": "markdown",
   "id": "76fb24eb",
   "metadata": {},
   "source": [
    "## Chrome driver installing"
   ]
  },
  {
   "cell_type": "code",
   "execution_count": 4,
   "id": "7f45f5cb",
   "metadata": {},
   "outputs": [],
   "source": [
    "s = Service(\"./chromedriver\")\n",
    "browser = Chrome(service = s)\n",
    "url = \"https://www.google.com/search?q=олимпиада&sxsrf=APq-WBvDA7edewa5jBhoh_R3-274Fe9vAQ:1644488930864&source=lnms&tbm=nws&sa=X&ved=2ahUKEwjBk77U9vT1AhXksIsKHWOHAXUQ_AUoAXoECAIQAw\"\n",
    "browser.get(url)"
   ]
  },
  {
   "cell_type": "markdown",
   "id": "aa0cfd83",
   "metadata": {},
   "source": [
    "## Saving \"cards\" with necessary data"
   ]
  },
  {
   "cell_type": "code",
   "execution_count": 5,
   "id": "7ace2a96",
   "metadata": {},
   "outputs": [],
   "source": [
    "soup = BeautifulSoup(browser.page_source, 'lxml')"
   ]
  },
  {
   "cell_type": "code",
   "execution_count": 6,
   "id": "c9731645",
   "metadata": {},
   "outputs": [],
   "source": [
    "cards = soup.findAll(\"g-card\", class_ = \"ftSUBd\")"
   ]
  },
  {
   "cell_type": "code",
   "execution_count": 8,
   "id": "45da6a64",
   "metadata": {
    "scrolled": true
   },
   "outputs": [
    {
     "data": {
      "text/plain": [
       "9"
      ]
     },
     "execution_count": 8,
     "metadata": {},
     "output_type": "execute_result"
    }
   ],
   "source": [
    "len(cards)"
   ]
  },
  {
   "cell_type": "markdown",
   "id": "3680fec4",
   "metadata": {},
   "source": [
    "## Analyzing the first card"
   ]
  },
  {
   "cell_type": "code",
   "execution_count": 9,
   "id": "54cc2ef7",
   "metadata": {},
   "outputs": [],
   "source": [
    "card = cards[0]"
   ]
  },
  {
   "cell_type": "markdown",
   "id": "c8e3a4e3",
   "metadata": {},
   "source": [
    "### getting resource's name"
   ]
  },
  {
   "cell_type": "code",
   "execution_count": 15,
   "id": "d18175b7",
   "metadata": {},
   "outputs": [],
   "source": [
    "comp = card.find(\"div\", class_ = \"CEMjEf NUnG9d\").find(\"span\").text.strip()"
   ]
  },
  {
   "cell_type": "code",
   "execution_count": 24,
   "id": "ddf98ae5",
   "metadata": {},
   "outputs": [
    {
     "data": {
      "text/plain": [
       "'Чемпионат'"
      ]
     },
     "execution_count": 24,
     "metadata": {},
     "output_type": "execute_result"
    }
   ],
   "source": [
    "comp"
   ]
  },
  {
   "cell_type": "markdown",
   "id": "1b429dcf",
   "metadata": {},
   "source": [
    "### getting the topic"
   ]
  },
  {
   "cell_type": "code",
   "execution_count": 22,
   "id": "733094a1",
   "metadata": {},
   "outputs": [],
   "source": [
    "topic = card.find(\"div\", class_ = \"iRPxbe\").findAll(\"div\")[1].text.strip()"
   ]
  },
  {
   "cell_type": "code",
   "execution_count": 23,
   "id": "c07f7f25",
   "metadata": {
    "scrolled": true
   },
   "outputs": [
    {
     "data": {
      "text/plain": [
       "'Валиеву и золото вроде бы отстояли. Но нужны официальные подтверждения. \\nОнлайн'"
      ]
     },
     "execution_count": 23,
     "metadata": {},
     "output_type": "execute_result"
    }
   ],
   "source": [
    "topic"
   ]
  },
  {
   "cell_type": "markdown",
   "id": "72b0a894",
   "metadata": {},
   "source": [
    "### getting the link to this article"
   ]
  },
  {
   "cell_type": "code",
   "execution_count": 25,
   "id": "2380e4db",
   "metadata": {},
   "outputs": [],
   "source": [
    "link = card.find(\"a\", class_ = \"WlydOe\").get(\"href\")"
   ]
  },
  {
   "cell_type": "code",
   "execution_count": 26,
   "id": "8d755578",
   "metadata": {},
   "outputs": [
    {
     "data": {
      "text/plain": [
       "'https://www.championat.com/olympicwinter/article-4603603-doping-proba-rossii-v-figurnom-katanii-na-olimpijskih-igrah-2022-onlajn-vse-podrobnosti-poslednie-novosti.html'"
      ]
     },
     "execution_count": 26,
     "metadata": {},
     "output_type": "execute_result"
    }
   ],
   "source": [
    "link"
   ]
  },
  {
   "cell_type": "markdown",
   "id": "9a10ad9f",
   "metadata": {},
   "source": [
    "### clicking on \"next page\" button"
   ]
  },
  {
   "cell_type": "code",
   "execution_count": 27,
   "id": "1406545b",
   "metadata": {},
   "outputs": [],
   "source": [
    "browser.find_element(By.CSS_SELECTOR, \"#pnnext > span:nth-child(2)\").click()"
   ]
  },
  {
   "cell_type": "markdown",
   "id": "5348baba",
   "metadata": {},
   "source": [
    "# Final code"
   ]
  },
  {
   "cell_type": "code",
   "execution_count": 28,
   "id": "7d1a9ea3",
   "metadata": {},
   "outputs": [
    {
     "name": "stderr",
     "output_type": "stream",
     "text": [
      "100%|██████████| 10/10 [00:11<00:00,  1.13s/it]\n"
     ]
    }
   ],
   "source": [
    "from bs4 import BeautifulSoup\n",
    "from selenium.webdriver import Chrome\n",
    "from selenium.webdriver.common.by import By\n",
    "from selenium.webdriver.common.keys import Keys\n",
    "from selenium.webdriver.chrome.service import Service\n",
    "from selenium.webdriver.support.ui import WebDriverWait as wait\n",
    "from selenium.webdriver.support import expected_conditions as EC\n",
    "from selenium.common.exceptions import NoSuchElementException\n",
    "from time import sleep\n",
    "from tqdm import tqdm\n",
    "import pandas as pd\n",
    "\n",
    "data = []\n",
    "\n",
    "s = Service(\"./chromedriver\")\n",
    "browser = Chrome(service = s)\n",
    "url = \"https://www.google.com/search?q=олимпиада&sxsrf=APq-WBvDA7edewa5jBhoh_R3-274Fe9vAQ:1644488930864&source=lnms&tbm=nws&sa=X&ved=2ahUKEwjBk77U9vT1AhXksIsKHWOHAXUQ_AUoAXoECAIQAw\"\n",
    "browser.get(url)\n",
    "\n",
    "for i in tqdm(range(1, 11)):\n",
    "    sleep(5)\n",
    "    soup = BeautifulSoup(browser.page_source, 'lxml')\n",
    "    cards = soup.findAll(\"g-card\", class_ = \"ftSUBd\")\n",
    "    \n",
    "    for card in cards:\n",
    "        try:\n",
    "            company = card.find(\"div\", class_ = \"CEMjEf NUnG9d\").find(\"span\").text.strip()\n",
    "        except:\n",
    "            company = \"-\"\n",
    "        try:\n",
    "            topic = card.find(\"div\", class_ = \"iRPxbe\").findAll(\"div\")[1].text.strip()\n",
    "        except:\n",
    "            topic = \"-\"\n",
    "        try:\n",
    "            link = card.find(\"a\", class_ = \"WlydOe\").get(\"href\")\n",
    "        except:\n",
    "            link = \"-\"\n",
    "        data.append([company, topic, link])\n",
    "        \n",
    "    try:\n",
    "        browser.find_element(By.CSS_SELECTOR, \"#pnnext > span:nth-child(2)\").click()\n",
    "    except:\n",
    "        break\n",
    "\n",
    "headers = [\"company\", \"topic\", \"link\"]\n",
    "df = pd.DataFrame(data, columns=headers)\n",
    "\n",
    "df.to_json(\"./news.json\", orient = 'index')"
   ]
  }
 ],
 "metadata": {
  "kernelspec": {
   "display_name": "Python 3",
   "language": "python",
   "name": "python3"
  },
  "language_info": {
   "codemirror_mode": {
    "name": "ipython",
    "version": 3
   },
   "file_extension": ".py",
   "mimetype": "text/x-python",
   "name": "python",
   "nbconvert_exporter": "python",
   "pygments_lexer": "ipython3",
   "version": "3.8.8"
  }
 },
 "nbformat": 4,
 "nbformat_minor": 5
}
