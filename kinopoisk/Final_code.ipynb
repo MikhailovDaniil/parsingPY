{
 "cells": [
  {
   "cell_type": "code",
   "execution_count": 4,
   "id": "81f5dd29",
   "metadata": {},
   "outputs": [
    {
     "name": "stderr",
     "output_type": "stream",
     "text": [
      "100%|██████████| 5/5 [00:36<00:00,  7.25s/it]\n"
     ]
    }
   ],
   "source": [
    "from bs4 import BeautifulSoup\n",
    "from selenium.webdriver import Chrome\n",
    "from selenium.webdriver.common.by import By\n",
    "from selenium.webdriver.common.keys import Keys\n",
    "from selenium.webdriver.chrome.service import Service\n",
    "from selenium.webdriver.support.ui import WebDriverWait as wait\n",
    "from selenium.webdriver.support import expected_conditions as EC\n",
    "from selenium.common.exceptions import NoSuchElementException\n",
    "from time import sleep\n",
    "from tqdm import tqdm\n",
    "import pandas as pd\n",
    "\n",
    "s = Service(\"./chromedriver\")\n",
    "browser = Chrome(service = s)\n",
    "url = \"https://www.kinopoisk.ru/lists/top250/\"\n",
    "browser.get(url)\n",
    "\n",
    "sleep(15) # time for captch passing\n",
    " \n",
    "data = []\n",
    "\n",
    "for i in tqdm(range(5)):\n",
    "    sleep(7)\n",
    "    soup = BeautifulSoup(browser.page_source, 'lxml')\n",
    "    films = soup.findAll(\"div\", class_ = \"desktop-rating-selection-film-item\")\n",
    "    \n",
    "    for film in films:\n",
    "        try:\n",
    "            link = \"kinopoisk.ru\" + film.find(\"a\", class_=\"selection-film-item-meta__link\").get(\"href\")\n",
    "        except:\n",
    "            link = \"\"\n",
    "        try:\n",
    "            russian_name = film.find(\"a\", class_=\"selection-film-item-meta__link\").find(\"p\", class_=\"selection-film-item-meta__name\").text\n",
    "        except:\n",
    "            russian_name = \"\"\n",
    "        try:\n",
    "            original_name = film.find(\"a\", class_=\"selection-film-item-meta__link\").find(\"p\", class_=\"selection-film-item-meta__original-name\").text\n",
    "        except:\n",
    "            original_name = \"\"\n",
    "        try:\n",
    "            country = film.find(\"a\", class_=\"selection-film-item-meta__link\").find(\"span\", class_=\"selection-film-item-meta__meta-additional-item\").text\n",
    "        except:\n",
    "            country = \"\"\n",
    "        try:\n",
    "            film_type = film.find(\"a\", class_=\"selection-film-item-meta__link\").findAll(\"span\", class_=\"selection-film-item-meta__meta-additional-item\")[1].text\n",
    "        except:\n",
    "            film_type = \"\"\n",
    "        try:\n",
    "            rate = film.find(\"span\", class_ = \"rating__value rating__value_positive\").text\n",
    "        except:\n",
    "            rate = \"\"\n",
    "        data.append([link, russian_name, original_name, country, film_type, rate])\n",
    "    try:\n",
    "        browser.find_elements(By.CLASS_NAME, \"paginator__page-relative\")[-1].click()\n",
    "        # On all pages, except the first one, there are two buttons with such class: \"Previous\" and \"Next\" page,\n",
    "        # - so we are going to find the \"Next\" button in all cases, which is always the last one\n",
    "        # - 1 of 1 on the first page and 2 of 2 on others\n",
    "    except:\n",
    "        break\n",
    "        \n",
    "header = [\"link\", \"russian_name\", \"original_name\", \"country\", \"film_type\", \"rate\"]\n",
    "df = pd.DataFrame(data, columns = header)\n",
    "df.to_csv(\"./kinopoisk_data.csv\", sep = \";\", encoding = \"utf8\")"
   ]
  }
 ],
 "metadata": {
  "kernelspec": {
   "display_name": "Python 3",
   "language": "python",
   "name": "python3"
  },
  "language_info": {
   "codemirror_mode": {
    "name": "ipython",
    "version": 3
   },
   "file_extension": ".py",
   "mimetype": "text/x-python",
   "name": "python",
   "nbconvert_exporter": "python",
   "pygments_lexer": "ipython3",
   "version": "3.8.8"
  }
 },
 "nbformat": 4,
 "nbformat_minor": 5
}
