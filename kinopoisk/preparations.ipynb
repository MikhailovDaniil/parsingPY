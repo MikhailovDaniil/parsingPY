{
 "cells": [
  {
   "cell_type": "markdown",
   "id": "5f336926",
   "metadata": {},
   "source": [
    "### https://youtu.be/0ws5tsRBgL8"
   ]
  },
  {
   "cell_type": "markdown",
   "id": "ef4c3e3b",
   "metadata": {},
   "source": [
    "# https://www.kinopoisk.ru/lists/top250 web-scraping"
   ]
  },
  {
   "cell_type": "markdown",
   "id": "806ff4d7",
   "metadata": {},
   "source": [
    "### Using <i> requests </i> library to get the html code of this website"
   ]
  },
  {
   "cell_type": "code",
   "execution_count": 1,
   "id": "f1f87c6c",
   "metadata": {},
   "outputs": [],
   "source": [
    "import requests"
   ]
  },
  {
   "cell_type": "code",
   "execution_count": 34,
   "id": "8b3da6b0",
   "metadata": {},
   "outputs": [],
   "source": [
    "url = \"https://www.kinopoisk.ru/lists/top250/\"\n",
    "\n",
    "r = requests.get(url)\n",
    "#r.text\n"
   ]
  },
  {
   "cell_type": "markdown",
   "id": "26229b00",
   "metadata": {},
   "source": [
    "### using <i> bs4 </i> library to work with the collected code"
   ]
  },
  {
   "cell_type": "code",
   "execution_count": 4,
   "id": "97318dac",
   "metadata": {},
   "outputs": [],
   "source": [
    "from bs4 import BeautifulSoup"
   ]
  },
  {
   "cell_type": "code",
   "execution_count": 35,
   "id": "d7710696",
   "metadata": {},
   "outputs": [],
   "source": [
    "soup = BeautifulSoup(r.text, \"lxml\")\n",
    "#soup\n"
   ]
  },
  {
   "cell_type": "markdown",
   "id": "c0bcd051",
   "metadata": {},
   "source": [
    "#### All films cards have special tag <br>\n",
    "<font color=\"green\"> div class=\"desktop-rating-selection-film-item\" </font>"
   ]
  },
  {
   "cell_type": "code",
   "execution_count": 36,
   "id": "fece4a0e",
   "metadata": {
    "scrolled": true
   },
   "outputs": [],
   "source": [
    "#soup.find(\"div\", class_ =\"desktop-rating-selection-film-item\")"
   ]
  },
  {
   "cell_type": "markdown",
   "id": "6ed6db3d",
   "metadata": {},
   "source": [
    "#### looking for film's link (tag \"a\" class \"selection-film-item-meta__link\" due to collected html code)"
   ]
  },
  {
   "cell_type": "code",
   "execution_count": 6,
   "id": "5294f0c2",
   "metadata": {},
   "outputs": [
    {
     "data": {
      "text/plain": [
       "<a class=\"selection-film-item-meta__link\" href=\"/film/435/\"><p class=\"selection-film-item-meta__name\">Зеленая миля</p><p class=\"selection-film-item-meta__original-name\">Green Mile, The, 1999</p><p class=\"selection-film-item-meta__meta-additional\"><span class=\"selection-film-item-meta__meta-additional-item\">США</span><span class=\"selection-film-item-meta__meta-additional-item\">драма, криминал</span></p></a>"
      ]
     },
     "execution_count": 6,
     "metadata": {},
     "output_type": "execute_result"
    }
   ],
   "source": [
    "soup.find(\"div\", class_ =\"desktop-rating-selection-film-item\").find(\"a\", class_=\"selection-film-item-meta__link\")"
   ]
  },
  {
   "cell_type": "code",
   "execution_count": 7,
   "id": "aafc4bed",
   "metadata": {},
   "outputs": [
    {
     "data": {
      "text/plain": [
       "'/film/435/'"
      ]
     },
     "execution_count": 7,
     "metadata": {},
     "output_type": "execute_result"
    }
   ],
   "source": [
    "soup.find(\"div\",\n",
    "          class_ =\"desktop-rating-selection-film-item\").find(\"a\",\n",
    "                                                             class_=\"selection-film-item-meta__link\").get(\"href\")"
   ]
  },
  {
   "cell_type": "code",
   "execution_count": 8,
   "id": "60792276",
   "metadata": {},
   "outputs": [
    {
     "data": {
      "text/plain": [
       "'kinopoisk.ru/film/435/'"
      ]
     },
     "execution_count": 8,
     "metadata": {},
     "output_type": "execute_result"
    }
   ],
   "source": [
    "link = \"kinopoisk.ru\"+ soup.find(\"div\",\n",
    "          class_ =\"desktop-rating-selection-film-item\").find(\"a\",\n",
    "                                                             class_=\"selection-film-item-meta__link\").get(\"href\")\n",
    "\n",
    "link"
   ]
  },
  {
   "cell_type": "markdown",
   "id": "67873d59",
   "metadata": {},
   "source": [
    "#### looking for film's name (in russian)"
   ]
  },
  {
   "cell_type": "code",
   "execution_count": 9,
   "id": "fd9e9189",
   "metadata": {},
   "outputs": [
    {
     "data": {
      "text/plain": [
       "'Зеленая миля'"
      ]
     },
     "execution_count": 9,
     "metadata": {},
     "output_type": "execute_result"
    }
   ],
   "source": [
    "russian_name = soup.find(\"div\",\n",
    "          class_ =\"desktop-rating-selection-film-item\").find(\"a\", class_=\"selection-film-item-meta__link\").find(\"p\",\n",
    "                                                             class_=\"selection-film-item-meta__name\").text\n",
    "russian_name"
   ]
  },
  {
   "cell_type": "markdown",
   "id": "b80b2c04",
   "metadata": {},
   "source": [
    "####  looking for original film's name"
   ]
  },
  {
   "cell_type": "code",
   "execution_count": 10,
   "id": "a10db5c2",
   "metadata": {
    "scrolled": true
   },
   "outputs": [
    {
     "data": {
      "text/plain": [
       "'Green Mile, The, 1999'"
      ]
     },
     "execution_count": 10,
     "metadata": {},
     "output_type": "execute_result"
    }
   ],
   "source": [
    "original_name = soup.find(\"div\",\n",
    "          class_ =\"desktop-rating-selection-film-item\").find(\"a\", class_=\"selection-film-item-meta__link\").find(\"p\",\n",
    "                                                             class_=\"selection-film-item-meta__original-name\").text\n",
    "\n",
    "original_name"
   ]
  },
  {
   "cell_type": "markdown",
   "id": "bf3b0c3a",
   "metadata": {},
   "source": [
    "#### looking for film's country and genre"
   ]
  },
  {
   "cell_type": "code",
   "execution_count": 11,
   "id": "619490af",
   "metadata": {},
   "outputs": [
    {
     "data": {
      "text/plain": [
       "'США'"
      ]
     },
     "execution_count": 11,
     "metadata": {},
     "output_type": "execute_result"
    }
   ],
   "source": [
    "country = soup.find(\"div\",\n",
    "          class_ =\"desktop-rating-selection-film-item\").find(\"a\", class_=\"selection-film-item-meta__link\").find(\"span\",\n",
    "                                                             class_=\"selection-film-item-meta__meta-additional-item\").text\n",
    "\n",
    "country"
   ]
  },
  {
   "cell_type": "markdown",
   "id": "17671221",
   "metadata": {},
   "source": [
    "#### Both country and genre has same tags and classes. We will use <i> findAll </i> to get the list of all objects of this class and then we will divide them"
   ]
  },
  {
   "cell_type": "code",
   "execution_count": 12,
   "id": "7f51e38a",
   "metadata": {},
   "outputs": [
    {
     "data": {
      "text/plain": [
       "[<span class=\"selection-film-item-meta__meta-additional-item\">США</span>,\n",
       " <span class=\"selection-film-item-meta__meta-additional-item\">драма, криминал</span>]"
      ]
     },
     "execution_count": 12,
     "metadata": {},
     "output_type": "execute_result"
    }
   ],
   "source": [
    "soup.find(\"div\",\n",
    "          class_ =\"desktop-rating-selection-film-item\").find(\"a\", class_=\"selection-film-item-meta__link\").findAll(\"span\",\n",
    "                                                             class_=\"selection-film-item-meta__meta-additional-item\")\n"
   ]
  },
  {
   "cell_type": "markdown",
   "id": "46c9ea9a",
   "metadata": {},
   "source": [
    "#### the element with a 0 index is the country, while 1 is the genre"
   ]
  },
  {
   "cell_type": "code",
   "execution_count": 13,
   "id": "6b435ec0",
   "metadata": {},
   "outputs": [
    {
     "data": {
      "text/plain": [
       "'драма, криминал'"
      ]
     },
     "execution_count": 13,
     "metadata": {},
     "output_type": "execute_result"
    }
   ],
   "source": [
    "film_type = soup.find(\"div\",\n",
    "          class_ =\"desktop-rating-selection-film-item\").find(\"a\", class_=\"selection-film-item-meta__link\").findAll(\"span\",\n",
    "                                                             class_=\"selection-film-item-meta__meta-additional-item\")[1].text\n",
    "\n",
    "film_type"
   ]
  },
  {
   "cell_type": "markdown",
   "id": "fd955797",
   "metadata": {},
   "source": [
    "#### looking for film's rating"
   ]
  },
  {
   "cell_type": "code",
   "execution_count": 14,
   "id": "257e4f74",
   "metadata": {},
   "outputs": [
    {
     "data": {
      "text/plain": [
       "'9.0'"
      ]
     },
     "execution_count": 14,
     "metadata": {},
     "output_type": "execute_result"
    }
   ],
   "source": [
    "rate = soup.find(\"div\", class_ =\"desktop-rating-selection-film-item\").find(\"span\", class_ = \"rating__value rating__value_positive\").text\n",
    "\n",
    "rate"
   ]
  },
  {
   "cell_type": "markdown",
   "id": "9227ef20",
   "metadata": {},
   "source": [
    "## Collecting data from all films' cards on the page"
   ]
  },
  {
   "cell_type": "code",
   "execution_count": 22,
   "id": "5f25185f",
   "metadata": {},
   "outputs": [
    {
     "data": {
      "text/plain": [
       "50"
      ]
     },
     "execution_count": 22,
     "metadata": {},
     "output_type": "execute_result"
    }
   ],
   "source": [
    "films = soup.findAll(\"div\", class_ = \"desktop-rating-selection-film-item\" )\n",
    "len(films)"
   ]
  },
  {
   "cell_type": "markdown",
   "id": "fa0aba01",
   "metadata": {},
   "source": [
    "#### There is information only about 50 films, but we are working with top-250 list, so there are several pages"
   ]
  },
  {
   "cell_type": "code",
   "execution_count": 23,
   "id": "1a615475",
   "metadata": {},
   "outputs": [],
   "source": [
    "data = []\n",
    "\n",
    "for film in films:\n",
    "    link = \"kinopoisk.ru\" + film.find(\"a\", class_=\"selection-film-item-meta__link\").get(\"href\")\n",
    "    russian_name = film.find(\"a\", class_=\"selection-film-item-meta__link\").find(\"p\",\n",
    "                                                             class_=\"selection-film-item-meta__name\").text\n",
    "    original_name = film.find(\"a\", class_=\"selection-film-item-meta__link\").find(\"p\",\n",
    "                                                             class_=\"selection-film-item-meta__original-name\").text\n",
    "    country = film.find(\"a\", class_=\"selection-film-item-meta__link\").find(\"span\",\n",
    "                                                             class_=\"selection-film-item-meta__meta-additional-item\").text\n",
    "    film_type = film.find(\"a\", class_=\"selection-film-item-meta__link\").findAll(\"span\",\n",
    "                                                             class_=\"selection-film-item-meta__meta-additional-item\")[1].text\n",
    "    rate = film.find(\"span\", class_ = \"rating__value rating__value_positive\").text\n",
    "    \n",
    "    data.append([link, russian_name, original_name, country, film_type, rate])\n",
    "\n",
    "\n"
   ]
  },
  {
   "cell_type": "code",
   "execution_count": 37,
   "id": "e01c7892",
   "metadata": {},
   "outputs": [],
   "source": [
    "#data"
   ]
  },
  {
   "cell_type": "markdown",
   "id": "7c624a50",
   "metadata": {},
   "source": [
    "## My simple plan - swithing pages changing number in url with\n",
    "```python\n",
    "for p in range(1, 6):\n",
    "    url = f\"https://www.kinopoisk.ru/lists/top250/?page={p}&tab=all\"\n",
    "```\n",
    "## - doesn't work, because this code causes captcha\n"
   ]
  },
  {
   "cell_type": "markdown",
   "id": "8c7456bb",
   "metadata": {},
   "source": [
    "## We have to use more complicated way of web-scraping, using the <i> Selenium </i> library and their special driver"
   ]
  },
  {
   "cell_type": "code",
   "execution_count": 19,
   "id": "8c202711",
   "metadata": {},
   "outputs": [],
   "source": [
    "from selenium.webdriver import Chrome\n",
    "from selenium.webdriver.common.by import By\n",
    "from selenium.webdriver.common.keys import Keys\n",
    "from selenium.webdriver.chrome.service import Service\n",
    "from selenium.webdriver.support.ui import WebDriverWait as wait\n",
    "from selenium.webdriver.support import expected_conditions as EC\n",
    "from selenium.common.exceptions import NoSuchElementException\n",
    "from time import sleep\n",
    "from tqdm import tqdm"
   ]
  },
  {
   "cell_type": "code",
   "execution_count": 25,
   "id": "7e0ec390",
   "metadata": {},
   "outputs": [],
   "source": [
    "s = Service(\"./chromedriver\")\n",
    "browser = Chrome(service = s)\n",
    "url = \"https://www.kinopoisk.ru/lists/top250/\"\n",
    "browser.get(url)"
   ]
  },
  {
   "cell_type": "code",
   "execution_count": 29,
   "id": "6ae2479c",
   "metadata": {},
   "outputs": [
    {
     "name": "stderr",
     "output_type": "stream",
     "text": [
      "100%|██████████| 5/5 [00:38<00:00,  7.67s/it]\n"
     ]
    }
   ],
   "source": [
    "data = []\n",
    "\n",
    "for i in tqdm(range(5)):\n",
    "    sleep(7)\n",
    "    soup = BeautifulSoup(browser.page_source, 'lxml')\n",
    "    films = soup.findAll(\"div\", class_ = \"desktop-rating-selection-film-item\")\n",
    "    \n",
    "    for film in films:\n",
    "        try:\n",
    "            link = \"kinopoisk.ru\" + film.find(\"a\", class_=\"selection-film-item-meta__link\").get(\"href\")\n",
    "        except:\n",
    "            link = \"\"\n",
    "        try:\n",
    "            russian_name = film.find(\"a\", class_=\"selection-film-item-meta__link\").find(\"p\", class_=\"selection-film-item-meta__name\").text\n",
    "        except:\n",
    "            russian_name = \"\"\n",
    "        try:\n",
    "            original_name = film.find(\"a\", class_=\"selection-film-item-meta__link\").find(\"p\", class_=\"selection-film-item-meta__original-name\").text\n",
    "        except:\n",
    "            original_name = \"\"\n",
    "        try:\n",
    "            country = film.find(\"a\", class_=\"selection-film-item-meta__link\").find(\"span\", class_=\"selection-film-item-meta__meta-additional-item\").text\n",
    "        except:\n",
    "            country = \"\"\n",
    "        try:\n",
    "            film_type = film.find(\"a\", class_=\"selection-film-item-meta__link\").findAll(\"span\", class_=\"selection-film-item-meta__meta-additional-item\")[1].text\n",
    "        except:\n",
    "            film_type = \"\"\n",
    "        try:\n",
    "            rate = film.find(\"span\", class_ = \"rating__value rating__value_positive\").text\n",
    "        except:\n",
    "            rate = \"\"\n",
    "        data.append([link, russian_name, original_name, country, film_type, rate])\n",
    "    try:\n",
    "        browser.find_elements(By.CLASS_NAME, \"paginator__page-relative\")[-1].click()\n",
    "        # On all pages, except the first one, there are two buttons with such class: \"Previous\" and \"Next\" page,\n",
    "        # - so we are going to find the \"Next\" button in all cases, which is always the last one\n",
    "        # - 1 of 1 on the first page and 2 of 2 on others\n",
    "    except:\n",
    "        break\n"
   ]
  },
  {
   "cell_type": "code",
   "execution_count": 30,
   "id": "695df85d",
   "metadata": {},
   "outputs": [
    {
     "data": {
      "text/plain": [
       "250"
      ]
     },
     "execution_count": 30,
     "metadata": {},
     "output_type": "execute_result"
    }
   ],
   "source": [
    "len(data)"
   ]
  },
  {
   "cell_type": "code",
   "execution_count": 31,
   "id": "bb8d9fc5",
   "metadata": {},
   "outputs": [],
   "source": [
    "import pandas as pd"
   ]
  },
  {
   "cell_type": "code",
   "execution_count": 32,
   "id": "81b1c379",
   "metadata": {},
   "outputs": [],
   "source": [
    "header = [\"link\", \"russian_name\", \"original_name\", \"country\", \"film_type\", \"rate\"]"
   ]
  },
  {
   "cell_type": "code",
   "execution_count": 33,
   "id": "c1419298",
   "metadata": {},
   "outputs": [],
   "source": [
    "df = pd.DataFrame(data, columns = header)\n",
    "df.to_csv(\"./kinopoisk_data.csv\", sep = \";\", encoding = \"utf8\")"
   ]
  }
 ],
 "metadata": {
  "kernelspec": {
   "display_name": "Python 3",
   "language": "python",
   "name": "python3"
  },
  "language_info": {
   "codemirror_mode": {
    "name": "ipython",
    "version": 3
   },
   "file_extension": ".py",
   "mimetype": "text/x-python",
   "name": "python",
   "nbconvert_exporter": "python",
   "pygments_lexer": "ipython3",
   "version": "3.8.8"
  }
 },
 "nbformat": 4,
 "nbformat_minor": 5
}
