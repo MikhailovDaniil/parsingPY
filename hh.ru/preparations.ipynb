{
 "cells": [
  {
   "cell_type": "markdown",
   "id": "2d84984f",
   "metadata": {},
   "source": [
    "# https://hh.ru/ web scraping"
   ]
  },
  {
   "cell_type": "markdown",
   "id": "73bf2ef5",
   "metadata": {},
   "source": [
    "## I am going to collect the information about all data analyst vacations in Moscow (as an example) from the biggest headhunter website in Russia. But the final code will be able to collect the information about any vacations"
   ]
  },
  {
   "cell_type": "code",
   "execution_count": 3,
   "id": "55bb9db0",
   "metadata": {},
   "outputs": [],
   "source": [
    "from selenium.webdriver import Chrome\n",
    "from selenium.webdriver.common.by import By\n",
    "from selenium.webdriver.common.keys import Keys\n",
    "from selenium.webdriver.chrome.service import Service\n",
    "from selenium.webdriver.support.ui import WebDriverWait as wait\n",
    "from selenium.webdriver.support import expected_conditions as EC\n",
    "from selenium.common.exceptions import NoSuchElementException\n",
    "from bs4 import BeautifulSoup\n",
    "from time import sleep\n",
    "from tqdm import tqdm\n",
    "\n",
    "import pandas as pd"
   ]
  },
  {
   "cell_type": "code",
   "execution_count": 121,
   "id": "652dd7f4",
   "metadata": {},
   "outputs": [],
   "source": [
    "s = Service(\"./chromedriver\")\n",
    "browser = Chrome(service = s)\n",
    "url = \"https://hh.ru/\"\n",
    "\n",
    "browser.get(url)"
   ]
  },
  {
   "cell_type": "markdown",
   "id": "f100a65b",
   "metadata": {},
   "source": [
    "### looking for the input field and searching vacancies"
   ]
  },
  {
   "cell_type": "code",
   "execution_count": 122,
   "id": "0e4883e2",
   "metadata": {},
   "outputs": [
    {
     "data": {
      "text/plain": [
       "<selenium.webdriver.remote.webelement.WebElement (session=\"2eea7e33de377d3522c0b1fc604820fb\", element=\"f4a33363-523b-4e29-966e-87de9d2c644d\")>"
      ]
     },
     "execution_count": 122,
     "metadata": {},
     "output_type": "execute_result"
    }
   ],
   "source": [
    "input_field = browser.find_element(By.XPATH, \"/html/body/div[5]/div[2]/div/div[1]/div[3]/div/div/form/div/div[1]/div/input\")\n",
    "input_field"
   ]
  },
  {
   "cell_type": "code",
   "execution_count": 123,
   "id": "f0d64416",
   "metadata": {},
   "outputs": [
    {
     "name": "stdout",
     "output_type": "stream",
     "text": [
      "танцор\n"
     ]
    }
   ],
   "source": [
    "vacancy = str(input())\n",
    "input_field.send_keys(vacancy)\n"
   ]
  },
  {
   "cell_type": "code",
   "execution_count": 124,
   "id": "30bdf558",
   "metadata": {},
   "outputs": [],
   "source": [
    "search_but = browser.find_element(By.XPATH, \"/html/body/div[5]/div[2]/div/div[1]/div[3]/div/div/form/div/div[2]/button\")\n",
    "search_but.click()"
   ]
  },
  {
   "cell_type": "markdown",
   "id": "f5c45887",
   "metadata": {},
   "source": [
    "### data collecting from the first page"
   ]
  },
  {
   "cell_type": "code",
   "execution_count": 125,
   "id": "5b08a3a8",
   "metadata": {},
   "outputs": [],
   "source": [
    "soup = BeautifulSoup(browser.page_source, 'lxml')\n",
    "#soup"
   ]
  },
  {
   "cell_type": "code",
   "execution_count": 126,
   "id": "1ef1349f",
   "metadata": {},
   "outputs": [],
   "source": [
    "cards = soup.findAll(\"div\", class_ = \"vacancy-serp-item\")"
   ]
  },
  {
   "cell_type": "code",
   "execution_count": 127,
   "id": "a02cdad4",
   "metadata": {},
   "outputs": [],
   "source": [
    "for card in cards:\n",
    "    name = card.find(\"a\", class_ = \"bloko-link\").text.strip()\n",
    "    name"
   ]
  },
  {
   "cell_type": "code",
   "execution_count": 128,
   "id": "17addddd",
   "metadata": {},
   "outputs": [
    {
     "data": {
      "text/plain": [
       "'от35000руб.'"
      ]
     },
     "execution_count": 128,
     "metadata": {},
     "output_type": "execute_result"
    }
   ],
   "source": [
    "spans = card.findAll(\"span\", class_ = \"bloko-header-section-3 bloko-header-section-3_lite\")\n",
    "salary1 = spans[1].text.strip().split()\n",
    "salary = \"\".join(salary1)\n",
    "salary"
   ]
  },
  {
   "cell_type": "code",
   "execution_count": 129,
   "id": "ae792317",
   "metadata": {},
   "outputs": [
    {
     "data": {
      "text/plain": [
       "'https://hh.ru/vacancy/50814676?query=%D1%82%D0%B0%D0%BD%D1%86%D0%BE%D1%80'"
      ]
     },
     "execution_count": 129,
     "metadata": {},
     "output_type": "execute_result"
    }
   ],
   "source": [
    "link = card.find(\"a\", class_ = \"bloko-link\").get(\"href\")\n",
    "link"
   ]
  },
  {
   "cell_type": "code",
   "execution_count": 130,
   "id": "ccd94729",
   "metadata": {},
   "outputs": [
    {
     "data": {
      "text/plain": [
       "'Танцевальная мастерская, Танцевальная школа'"
      ]
     },
     "execution_count": 130,
     "metadata": {},
     "output_type": "execute_result"
    }
   ],
   "source": [
    "company = card.find(\"a\", class_ = \"bloko-link bloko-link_kind-secondary\").text.strip()\n",
    "company"
   ]
  },
  {
   "cell_type": "markdown",
   "id": "11686338",
   "metadata": {},
   "source": [
    "### page switching (clicking \"next\" button)"
   ]
  },
  {
   "cell_type": "markdown",
   "id": "ae22d4cc",
   "metadata": {},
   "source": [
    "### this button has tag \"a\" and class \"bloko-button\". It is always the last element on the page with such parameters, so we will use \n",
    "```python\n",
    "browser.find.elements(...)[-1]\n",
    "```"
   ]
  },
  {
   "cell_type": "code",
   "execution_count": 133,
   "id": "21f69aea",
   "metadata": {},
   "outputs": [
    {
     "ename": "SyntaxError",
     "evalue": "unexpected EOF while parsing (<ipython-input-133-ee53c59a40ab>, line 2)",
     "output_type": "error",
     "traceback": [
      "\u001b[1;36m  File \u001b[1;32m\"<ipython-input-133-ee53c59a40ab>\"\u001b[1;36m, line \u001b[1;32m2\u001b[0m\n\u001b[1;33m    nextbutton = browser.find_element(By.CSS_SELECTOR, \"[data-qa='pager-next']\")\u001b[0m\n\u001b[1;37m                                                                                ^\u001b[0m\n\u001b[1;31mSyntaxError\u001b[0m\u001b[1;31m:\u001b[0m unexpected EOF while parsing\n"
     ]
    }
   ],
   "source": [
    "try:\n",
    "    nextbutton = browser.find_element(By.CSS_SELECTOR, \"[data-qa='pager-next']\")\n"
   ]
  },
  {
   "cell_type": "markdown",
   "id": "e960e83e",
   "metadata": {},
   "source": [
    "# Full code"
   ]
  },
  {
   "cell_type": "code",
   "execution_count": 135,
   "id": "df1f2b23",
   "metadata": {},
   "outputs": [
    {
     "name": "stdout",
     "output_type": "stream",
     "text": [
      "data analyst\n",
      "61 cards collected\n",
      "111 cards collected\n",
      "161 cards collected\n",
      "211 cards collected\n",
      "261 cards collected\n",
      "311 cards collected\n",
      "361 cards collected\n",
      "411 cards collected\n",
      "461 cards collected\n",
      "511 cards collected\n",
      "561 cards collected\n",
      "611 cards collected\n",
      "661 cards collected\n",
      "711 cards collected\n",
      "761 cards collected\n",
      "811 cards collected\n",
      "861 cards collected\n",
      "911 cards collected\n",
      "961 cards collected\n",
      "1011 cards collected\n",
      "1061 cards collected\n",
      "1111 cards collected\n",
      "1161 cards collected\n",
      "1211 cards collected\n",
      "1261 cards collected\n",
      "1311 cards collected\n",
      "1361 cards collected\n",
      "1411 cards collected\n",
      "1461 cards collected\n",
      "1511 cards collected\n",
      "1561 cards collected\n",
      "1611 cards collected\n",
      "1661 cards collected\n",
      "1711 cards collected\n",
      "1761 cards collected\n",
      "1811 cards collected\n",
      "1861 cards collected\n",
      "1911 cards collected\n",
      "1961 cards collected\n",
      "2011 cards collected\n",
      "2061 cards collected\n"
     ]
    }
   ],
   "source": [
    "vacancy_name = str(input())\n",
    "\n",
    "s = Service(\"./chromedriver\")\n",
    "browser = Chrome(service = s)\n",
    "url = \"https://hh.ru/\"\n",
    "\n",
    "data = []\n",
    "\n",
    "browser.get(url)\n",
    "sleep(5)\n",
    "\n",
    "input_field = browser.find_element(By.XPATH, \"/html/body/div[5]/div[2]/div/div[1]/div[3]/div/div/form/div/div[1]/div/input\")\n",
    "input_field.send_keys(vacancy_name)\n",
    "browser.find_element(By.XPATH, \"/html/body/div[5]/div[2]/div/div[1]/div[3]/div/div/form/div/div[2]/button\").click()\n",
    "\n",
    "sleep(5)\n",
    "\n",
    "while True:\n",
    "    sleep(5)\n",
    "    soup = BeautifulSoup(browser.page_source, 'lxml')\n",
    "    cards = soup.findAll(\"div\", class_ = \"vacancy-serp-item\")\n",
    "    \n",
    "    for card in cards:\n",
    "        try:\n",
    "            name = card.find(\"a\", class_ = \"bloko-link\").text.strip()\n",
    "        except:\n",
    "            name = \"-\"\n",
    "        try:\n",
    "            spans = card.findAll(\"span\", class_ = \"bloko-header-section-3 bloko-header-section-3_lite\")\n",
    "            salary1 = spans[1].text.strip().split()\n",
    "            salary = \"\".join(salary1)\n",
    "            salary\n",
    "        except:\n",
    "            salary = \"-\"\n",
    "        try:\n",
    "            company = card.find(\"a\", class_ = \"bloko-link bloko-link_kind-secondary\").text.strip()\n",
    "        except:\n",
    "            company = \"-\"\n",
    "        try:\n",
    "            link = card.find(\"a\", class_ = \"bloko-link\").get(\"href\")\n",
    "        except:\n",
    "            link = \"-\"\n",
    "        data.append([name, salary, company, link])\n",
    "    print(len(data), \"cards collected\")\n",
    "        \n",
    "    try:\n",
    "        browser.find_element(By.CSS_SELECTOR, \"[data-qa='pager-next']\").click()\n",
    "    except:\n",
    "        break\n"
   ]
  },
  {
   "cell_type": "code",
   "execution_count": 137,
   "id": "1bba1e30",
   "metadata": {},
   "outputs": [],
   "source": [
    "headers = [\"name\", \"salary\", \"company\", \"link\"]\n",
    "df = pd.DataFrame(data, columns = headers)\n",
    "df.to_csv(\"./hhru.csv\", sep = \";\", encoding = 'utf8')"
   ]
  }
 ],
 "metadata": {
  "kernelspec": {
   "display_name": "Python 3",
   "language": "python",
   "name": "python3"
  },
  "language_info": {
   "codemirror_mode": {
    "name": "ipython",
    "version": 3
   },
   "file_extension": ".py",
   "mimetype": "text/x-python",
   "name": "python",
   "nbconvert_exporter": "python",
   "pygments_lexer": "ipython3",
   "version": "3.8.8"
  }
 },
 "nbformat": 4,
 "nbformat_minor": 5
}
