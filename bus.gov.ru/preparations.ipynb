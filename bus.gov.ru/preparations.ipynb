{
 "cells": [
  {
   "cell_type": "markdown",
   "id": "8ec82e0a",
   "metadata": {},
   "source": [
    "https://youtu.be/oqS-bR5m1bI"
   ]
  },
  {
   "cell_type": "markdown",
   "id": "d485f62f",
   "metadata": {},
   "source": [
    "## Web scraping ( https://bus.gov.ru/registry ). Selenium library"
   ]
  },
  {
   "cell_type": "markdown",
   "id": "72efdb13",
   "metadata": {},
   "source": [
    "https://chromedriver.chromium.org/downloads - ссылка для установки расширения для хрома. Необходимо для работы с библиотекой"
   ]
  },
  {
   "cell_type": "code",
   "execution_count": 62,
   "id": "ebbe4c51",
   "metadata": {},
   "outputs": [],
   "source": [
    "from selenium.webdriver import Chrome\n",
    "from selenium.webdriver.common.by import By\n",
    "from selenium.webdriver.common.keys import Keys\n",
    "from selenium.webdriver.support.ui import WebDriverWait as wait\n",
    "from selenium.webdriver.support import expected_conditions as EC\n",
    "from selenium.common.exceptions import NoSuchElementException\n",
    "from bs4 import BeautifulSoup\n",
    "from time import sleep"
   ]
  },
  {
   "cell_type": "code",
   "execution_count": 63,
   "id": "d7c41c2d",
   "metadata": {},
   "outputs": [
    {
     "name": "stderr",
     "output_type": "stream",
     "text": [
      "<ipython-input-63-e3422d95d342>:1: DeprecationWarning: executable_path has been deprecated, please pass in a Service object\n",
      "  browser = Chrome(\"./chromedriver\")\n"
     ]
    }
   ],
   "source": [
    "browser = Chrome(\"./chromedriver\")"
   ]
  },
  {
   "cell_type": "code",
   "execution_count": 64,
   "id": "af4b12e0",
   "metadata": {},
   "outputs": [],
   "source": [
    "url = \"https://bus.gov.ru/registry\"\n",
    "\n",
    "browser.get(url)"
   ]
  },
  {
   "cell_type": "markdown",
   "id": "44d48cfb",
   "metadata": {},
   "source": [
    "### Looking for the input field"
   ]
  },
  {
   "cell_type": "code",
   "execution_count": 65,
   "id": "55a51be5",
   "metadata": {},
   "outputs": [
    {
     "data": {
      "text/plain": [
       "<selenium.webdriver.remote.webelement.WebElement (session=\"9670904715032afa6bdc820addd8abb3\", element=\"a8f11d32-e042-45a5-9041-bda30903e609\")>"
      ]
     },
     "execution_count": 65,
     "metadata": {},
     "output_type": "execute_result"
    }
   ],
   "source": [
    "input_tab = browser.find_element(By.XPATH, '/html/body/div[2]/ui-view/form/div[1]/div[1]/label/input')\n",
    "input_tab"
   ]
  },
  {
   "cell_type": "markdown",
   "id": "f304df1c",
   "metadata": {},
   "source": [
    "### Writing \"swimming pool\" into the input field"
   ]
  },
  {
   "cell_type": "code",
   "execution_count": 66,
   "id": "07dacfeb",
   "metadata": {},
   "outputs": [],
   "source": [
    "input_tab.send_keys(\"бассейн\")"
   ]
  },
  {
   "cell_type": "markdown",
   "id": "d7837039",
   "metadata": {},
   "source": [
    "### Clicking the \"search\" button"
   ]
  },
  {
   "cell_type": "code",
   "execution_count": 67,
   "id": "6f4a4222",
   "metadata": {},
   "outputs": [],
   "source": [
    "button = browser.find_element(By.XPATH, '//button[@type=\"submit\"]')\n",
    "button.click()"
   ]
  },
  {
   "cell_type": "markdown",
   "id": "f06aeee0",
   "metadata": {},
   "source": [
    "### The same action in another way: \"clicking\" Enter key\n",
    "\n",
    "```python\n",
    "input_tab.send_keys(Keys.ENTER)\n",
    "```"
   ]
  },
  {
   "cell_type": "markdown",
   "id": "4cce2e14",
   "metadata": {},
   "source": [
    "## Collecting data from downloaded page's code using <i> bs4 </i> library"
   ]
  },
  {
   "cell_type": "code",
   "execution_count": 68,
   "id": "c0233f04",
   "metadata": {},
   "outputs": [],
   "source": [
    "soup = BeautifulSoup(browser.page_source, 'lxml')"
   ]
  },
  {
   "cell_type": "markdown",
   "id": "fb09e304",
   "metadata": {},
   "source": [
    "#### getting the name of an object from the code"
   ]
  },
  {
   "cell_type": "code",
   "execution_count": 69,
   "id": "c7b903f0",
   "metadata": {},
   "outputs": [
    {
     "data": {
      "text/plain": [
       "'АВТОНОМНОЕ УЧРЕЖДЕНИЕ \"ПЛАВАТЕЛЬНЫЙ БАССЕЙН \"АГАН\" ГОРОДСКОГО ОКРУГА РАДУЖНЫЙ ХАНТЫ-МАНСИЙСКОГО АВТОНОМНОГО ОКРУГА-ЮГРЫ'"
      ]
     },
     "execution_count": 69,
     "metadata": {},
     "output_type": "execute_result"
    }
   ],
   "source": [
    "name = soup.find('a', class_ = 'result__title').text.strip()\n",
    "name"
   ]
  },
  {
   "cell_type": "markdown",
   "id": "8b809f75",
   "metadata": {},
   "source": [
    "#### getting the link of an object"
   ]
  },
  {
   "cell_type": "code",
   "execution_count": 70,
   "id": "c4a2adf9",
   "metadata": {},
   "outputs": [
    {
     "data": {
      "text/plain": [
       "'https://bus.gov.ru/registry/agency/217441/register-info'"
      ]
     },
     "execution_count": 70,
     "metadata": {},
     "output_type": "execute_result"
    }
   ],
   "source": [
    "link = \"https://bus.gov.ru/registry\" + soup.find('a', class_ = 'result__button_registry').get('href')\n",
    "link"
   ]
  },
  {
   "cell_type": "code",
   "execution_count": 71,
   "id": "415b326d",
   "metadata": {},
   "outputs": [],
   "source": [
    "orgs = soup.findAll('div', class_ = 'result')\n",
    "#orgs"
   ]
  },
  {
   "cell_type": "code",
   "execution_count": 72,
   "id": "b6fc5569",
   "metadata": {},
   "outputs": [
    {
     "data": {
      "text/plain": [
       "10"
      ]
     },
     "execution_count": 72,
     "metadata": {},
     "output_type": "execute_result"
    }
   ],
   "source": [
    "len(orgs)"
   ]
  },
  {
   "cell_type": "markdown",
   "id": "e09c15cc",
   "metadata": {},
   "source": [
    "### there are 10 elements on each page. We are going to collect their data and switch to the new page etc"
   ]
  },
  {
   "cell_type": "markdown",
   "id": "52ca68c5",
   "metadata": {},
   "source": [
    "#### the first page:"
   ]
  },
  {
   "cell_type": "code",
   "execution_count": 73,
   "id": "9a7f3a5e",
   "metadata": {},
   "outputs": [],
   "source": [
    "data1 = []\n",
    "for org in orgs:\n",
    "    name = org.find('a', class_ = 'result__title').text.strip()\n",
    "    link = \"https://bus.gov.ru/registry\" + soup.find('a', class_ = 'result__button_registry').get('href')\n",
    "    data1.append([name, link])"
   ]
  },
  {
   "cell_type": "code",
   "execution_count": 74,
   "id": "379ddfdb",
   "metadata": {},
   "outputs": [
    {
     "data": {
      "text/plain": [
       "[['АВТОНОМНОЕ УЧРЕЖДЕНИЕ \"ПЛАВАТЕЛЬНЫЙ БАССЕЙН \"АГАН\" ГОРОДСКОГО ОКРУГА РАДУЖНЫЙ ХАНТЫ-МАНСИЙСКОГО АВТОНОМНОГО ОКРУГА-ЮГРЫ',\n",
       "  'https://bus.gov.ru/registry/agency/217441/register-info'],\n",
       " ['БЮДЖЕТНОЕ УЧРЕЖДЕНИЕ ФИЗИЧЕСКОЙ КУЛЬТУРЫ И СПОРТА ШЕКСНИНСКОГО МУНИЦИПАЛЬНОГО РАЙОНА \"ПЛАВАТЕЛЬНЫЙ БАССЕЙН \"ДЕЛЬФИН\"',\n",
       "  'https://bus.gov.ru/registry/agency/217441/register-info'],\n",
       " ['ГОСУДАРСТВЕННОЕ БЮДЖЕТНОЕ УЧРЕЖДЕНИЕ \"БАССЕЙН \"ОРИОН\"',\n",
       "  'https://bus.gov.ru/registry/agency/217441/register-info'],\n",
       " ['МУНИЦИПАЛЬНАЯ БЮДЖЕТНАЯ ОРГАНИЗАЦИЯ ДОПОЛНИТЕЛЬНОГО ОБРАЗОВАНИЯ ДЕТСКИЙ ОЗДОРОВИТЕЛЬНО-ОБРАЗОВАТЕЛЬНЫЙ ЦЕНТР (ПЛАВАТЕЛЬНЫЙ БАССЕЙН \"ЯНТАРЬ\") Г. ЗАДОНСКА ЛИПЕЦКОЙ ОБЛАСТИ',\n",
       "  'https://bus.gov.ru/registry/agency/217441/register-info'],\n",
       " ['МУНИЦИПАЛЬНОЕ АВТОНОМНОЕ УЧРЕЖДЕНИЕ БЕССОНОВСКОГО РАЙОНА ПЕНЗЕНСКОЙ ОБЛАСТИ \"БАССЕЙН БЕССОНОВСКИЙ\"',\n",
       "  'https://bus.gov.ru/registry/agency/217441/register-info'],\n",
       " ['МУНИЦИПАЛЬНОЕ АВТОНОМНОЕ УЧРЕЖДЕНИЕ КУПИНСКОГО РАЙОНА \"ПЛАВАТЕЛЬНЫЙ БАССЕЙН \"ЮБИЛЕЙНЫЙ\"',\n",
       "  'https://bus.gov.ru/registry/agency/217441/register-info'],\n",
       " ['МУНИЦИПАЛЬНОЕ АВТОНОМНОЕ УЧРЕЖДЕНИЕ МУНИЦИПАЛЬНОГО РАЙОНА ВОЛЖСКИЙ САМАРСКОЙ ОБЛАСТИ \"ПЛАВАТЕЛЬНЫЙ БАССЕЙН \"СТАРТ\"',\n",
       "  'https://bus.gov.ru/registry/agency/217441/register-info'],\n",
       " ['МУНИЦИПАЛЬНОЕ АВТОНОМНОЕ УЧРЕЖДЕНИЕ НОВОБРЯНСКИЙ ПЛАВАТЕЛЬНЫЙ БАССЕЙН \"ДЕЛЬФИН\"',\n",
       "  'https://bus.gov.ru/registry/agency/217441/register-info'],\n",
       " ['МУНИЦИПАЛЬНОЕ АВТОНОМНОЕ УЧРЕЖДЕНИЕ ПЛАВАТЕЛЬНЫЙ БАССЕЙН \"ГОРНЯК\"',\n",
       "  'https://bus.gov.ru/registry/agency/217441/register-info'],\n",
       " ['МУНИЦИПАЛЬНОЕ АВТОНОМНОЕ УЧРЕЖДЕНИЕ \"ПЛАВАТЕЛЬНЫЙ БАССЕЙН \"ДЕЛЬФИН\"',\n",
       "  'https://bus.gov.ru/registry/agency/217441/register-info']]"
      ]
     },
     "execution_count": 74,
     "metadata": {},
     "output_type": "execute_result"
    }
   ],
   "source": [
    "data1"
   ]
  },
  {
   "cell_type": "markdown",
   "id": "034319b6",
   "metadata": {},
   "source": [
    "#### clicking on \"next page\" button for 3 times (dealing with 4 pages) and collecting the data:"
   ]
  },
  {
   "cell_type": "markdown",
   "id": "bbd8ea9d",
   "metadata": {},
   "source": [
    "# <font color=\"red\"> Final Code </font>"
   ]
  },
  {
   "cell_type": "code",
   "execution_count": 78,
   "id": "3d444dad",
   "metadata": {},
   "outputs": [
    {
     "name": "stderr",
     "output_type": "stream",
     "text": [
      "<ipython-input-78-08783d5d6789>:3: DeprecationWarning: executable_path has been deprecated, please pass in a Service object\n",
      "  browser = Chrome(\"./chromedriver\") # открытие хрома с расширением\n"
     ]
    },
    {
     "name": "stdout",
     "output_type": "stream",
     "text": [
      "Загружено данных: 10\n",
      "Загружено данных: 20\n",
      "Загружено данных: 30\n",
      "Загружено данных: 37\n"
     ]
    }
   ],
   "source": [
    "data = [] # creating list for data\n",
    "\n",
    "browser = Chrome(\"./chromedriver\") # opening Chrome with a special driver\n",
    "url = \"https://bus.gov.ru/registry\" # link for web scraping\n",
    "browser.get(url) # opening this link with Chrome using a driver\n",
    "\n",
    "input_tab = browser.find_element(By.XPATH, '/html/body/div[2]/ui-view/form/div[1]/div[1]/label/input') \n",
    "# looking for input field\n",
    "input_tab.send_keys(\"бассейн\") # writing smth into the input field\n",
    "button = browser.find_element(By.XPATH, '//button[@type=\"submit\"]') # looking for \"search\" button\n",
    "button.click() # clicking on the \"search\" button\n",
    "\n",
    "\n",
    "for p in range(4): # series for the page switching\n",
    "    \n",
    "    sleep(7) # waiting for the page updating for 7 seconds\n",
    "    \n",
    "    soup = BeautifulSoup(browser.page_source, 'lxml') # saving a new page's code\n",
    "    \n",
    "    orgs = soup.findAll('div', class_ = 'result') # saving a code of elements with needed data \n",
    "    \n",
    "    for org in orgs:\n",
    "        # looking for an organisation's name and link in the saved page code\n",
    "        try:\n",
    "            name = org.find('a', class_ = 'result__title').text.strip()\n",
    "        except:\n",
    "            name = \"-\"\n",
    "        try:\n",
    "            link = \"https://bus.gov.ru/registry\" + soup.find('a', class_ = 'result__button_registry').get('href')\n",
    "        except:\n",
    "            link = \"-\"\n",
    "        # adding new data to list\n",
    "        data.append([name, link])\n",
    "    \n",
    "    print(\"Загружено данных:\", len(data))\n",
    "    \n",
    "    try: \n",
    "        browser.find_element(By.CLASS_NAME, 'pagination__next').click() # clicking \"next page\" button\n",
    "    except:\n",
    "        continue"
   ]
  },
  {
   "cell_type": "markdown",
   "id": "7e8b4bc1",
   "metadata": {},
   "source": [
    "## Saving collected data as .csv file"
   ]
  },
  {
   "cell_type": "code",
   "execution_count": 80,
   "id": "9b6845b6",
   "metadata": {},
   "outputs": [],
   "source": [
    "import pandas as pd"
   ]
  },
  {
   "cell_type": "code",
   "execution_count": 82,
   "id": "4de16041",
   "metadata": {},
   "outputs": [],
   "source": [
    "header = [\"Name\", \"Link\"]"
   ]
  },
  {
   "cell_type": "code",
   "execution_count": 83,
   "id": "dafe543b",
   "metadata": {},
   "outputs": [],
   "source": [
    "df = pd.DataFrame(data, columns = header)\n",
    "df.to_csv(\"./busgov.csv\", sep = \";\", encoding = \"utf8\")"
   ]
  },
  {
   "cell_type": "code",
   "execution_count": null,
   "id": "4e8df8f0",
   "metadata": {},
   "outputs": [],
   "source": []
  }
 ],
 "metadata": {
  "kernelspec": {
   "display_name": "Python 3",
   "language": "python",
   "name": "python3"
  },
  "language_info": {
   "codemirror_mode": {
    "name": "ipython",
    "version": 3
   },
   "file_extension": ".py",
   "mimetype": "text/x-python",
   "name": "python",
   "nbconvert_exporter": "python",
   "pygments_lexer": "ipython3",
   "version": "3.8.8"
  }
 },
 "nbformat": 4,
 "nbformat_minor": 5
}
