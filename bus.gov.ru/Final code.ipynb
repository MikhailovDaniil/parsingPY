{
 "cells": [
  {
   "cell_type": "code",
   "execution_count": 3,
   "id": "578d83bd",
   "metadata": {},
   "outputs": [],
   "source": [
    "from selenium.webdriver import Chrome\n",
    "from selenium.webdriver.common.by import By\n",
    "from selenium.webdriver.common.keys import Keys\n",
    "from selenium.webdriver.support.ui import WebDriverWait as wait\n",
    "from selenium.webdriver.support import expected_conditions as EC\n",
    "from selenium.common.exceptions import NoSuchElementException\n",
    "from bs4 import BeautifulSoup\n",
    "from time import sleep\n",
    "from tqdm import tqdm\n",
    "\n",
    "import pandas as pd"
   ]
  },
  {
   "cell_type": "code",
   "execution_count": 7,
   "id": "fe0f9f75",
   "metadata": {},
   "outputs": [
    {
     "name": "stderr",
     "output_type": "stream",
     "text": [
      "<ipython-input-7-e09d6ed46bd9>:3: DeprecationWarning: executable_path has been deprecated, please pass in a Service object\n",
      "  browser = Chrome(\"./chromedriver\") # opening Chrome with a special driver\n",
      "100%|██████████| 4/4 [00:28<00:00,  7.19s/it]\n"
     ]
    }
   ],
   "source": [
    "data = [] # creating list for data\n",
    "\n",
    "browser = Chrome(\"./chromedriver\") # opening Chrome with a special driver\n",
    "url = \"https://bus.gov.ru/registry\" # link for web scraping\n",
    "browser.get(url) # opening this link with Chrome using a driver\n",
    "\n",
    "input_tab = browser.find_element(By.XPATH, '/html/body/div[2]/ui-view/form/div[1]/div[1]/label/input') \n",
    "# looking for input field\n",
    "input_tab.send_keys(\"бассейн\") # writing smth into the input field\n",
    "button = browser.find_element(By.XPATH, '//button[@type=\"submit\"]') # looking for \"search\" button\n",
    "button.click() # clicking on the \"search\" button\n",
    "\n",
    "\n",
    "for p in tqdm(range(4)): # series for the page switching\n",
    "    \n",
    "    sleep(7) # waiting for the page updating for 7 seconds\n",
    "    \n",
    "    soup = BeautifulSoup(browser.page_source, 'lxml') # saving a new page's code\n",
    "    \n",
    "    orgs = soup.findAll('div', class_ = 'result') # saving a code of elements with needed data \n",
    "    \n",
    "    for org in orgs:\n",
    "        # looking for an organisation's name and link in the saved page code\n",
    "        try:\n",
    "            name = org.find('a', class_ = 'result__title').text.strip()\n",
    "        except:\n",
    "            name = \"-\"\n",
    "        try:\n",
    "            link = \"https://bus.gov.ru/registry\" + soup.find('a', class_ = 'result__button_registry').get('href')\n",
    "        except:\n",
    "            link = \"-\"\n",
    "        # adding new data to list\n",
    "        data.append([name, link])\n",
    "    \n",
    "    \n",
    "    try: \n",
    "        browser.find_element(By.CLASS_NAME, 'pagination__next').click() # clicking \"next page\" button\n",
    "    except:\n",
    "        continue\n",
    "        \n",
    "header = [\"Name\", \"Link\"]\n",
    "df = pd.DataFrame(data, columns = header)\n",
    "df.to_csv(\"./busgov.csv\", sep = \";\", encoding = \"utf8\")"
   ]
  },
  {
   "cell_type": "code",
   "execution_count": null,
   "id": "c660145c",
   "metadata": {},
   "outputs": [],
   "source": []
  }
 ],
 "metadata": {
  "kernelspec": {
   "display_name": "Python 3",
   "language": "python",
   "name": "python3"
  },
  "language_info": {
   "codemirror_mode": {
    "name": "ipython",
    "version": 3
   },
   "file_extension": ".py",
   "mimetype": "text/x-python",
   "name": "python",
   "nbconvert_exporter": "python",
   "pygments_lexer": "ipython3",
   "version": "3.8.8"
  }
 },
 "nbformat": 4,
 "nbformat_minor": 5
}
