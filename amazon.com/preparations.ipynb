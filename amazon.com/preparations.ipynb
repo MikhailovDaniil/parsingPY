{
 "cells": [
  {
   "cell_type": "markdown",
   "id": "160f49c8",
   "metadata": {},
   "source": [
    "# [amazon.com](https://www.amazon.com/s?i=electronics-intl-ship&bbn=16225009011&rh=n%3A16225009011%2Cn%3A172541&s=featured-rank&qid=1644647363&rnid=386442011&ref=sr_st_featured-rank) Web scraping"
   ]
  },
  {
   "cell_type": "markdown",
   "id": "db44e222",
   "metadata": {},
   "source": [
    "## I'm going to collect all useful information about top 500 (due to customers' reviews) headphones from amazon"
   ]
  },
  {
   "cell_type": "code",
   "execution_count": 1,
   "id": "a2573a39",
   "metadata": {},
   "outputs": [],
   "source": [
    "from bs4 import BeautifulSoup\n",
    "from selenium.webdriver import Chrome\n",
    "from selenium.webdriver.common.by import By\n",
    "from selenium.webdriver.common.keys import Keys\n",
    "from selenium.webdriver.chrome.service import Service\n",
    "from selenium.webdriver.support.ui import WebDriverWait as wait\n",
    "from selenium.webdriver.support import expected_conditions as EC\n",
    "from selenium.common.exceptions import NoSuchElementException\n",
    "from time import sleep\n",
    "from tqdm import tqdm\n",
    "import pandas as pd"
   ]
  },
  {
   "cell_type": "markdown",
   "id": "fa845938",
   "metadata": {},
   "source": [
    "## Opening website with selenium driver"
   ]
  },
  {
   "cell_type": "code",
   "execution_count": 38,
   "id": "1714f89a",
   "metadata": {},
   "outputs": [],
   "source": [
    "s = Service(\"./chromedriver\")\n",
    "browser = Chrome(service = s)\n",
    "url = \"https://www.amazon.com/s?i=electronics-intl-ship&bbn=16225009011&rh=n%3A16225009011%2Cn%3A172541&s=featured-rank&qid=1644647363&rnid=386442011&ref=sr_st_featured-rank\"\n",
    "browser.get(url)"
   ]
  },
  {
   "cell_type": "code",
   "execution_count": 3,
   "id": "e3a8d05d",
   "metadata": {},
   "outputs": [],
   "source": [
    "soup = BeautifulSoup(browser.page_source, \"lxml\")"
   ]
  },
  {
   "cell_type": "markdown",
   "id": "620988bb",
   "metadata": {},
   "source": [
    "## Finding all products cards"
   ]
  },
  {
   "cell_type": "code",
   "execution_count": 4,
   "id": "af046175",
   "metadata": {},
   "outputs": [],
   "source": [
    "cards = soup.findAll(\"div\", class_ = \"s-card-container s-overflow-hidden aok-relative s-expand-height s-include-content-margin s-latency-cf-section s-card-border\")"
   ]
  },
  {
   "cell_type": "markdown",
   "id": "f0c1fcf2",
   "metadata": {},
   "source": [
    "## Testing the first card"
   ]
  },
  {
   "cell_type": "code",
   "execution_count": 6,
   "id": "41312e7b",
   "metadata": {},
   "outputs": [],
   "source": [
    "card = cards[0]"
   ]
  },
  {
   "cell_type": "markdown",
   "id": "ef91f594",
   "metadata": {},
   "source": [
    "### getting link to product's page"
   ]
  },
  {
   "cell_type": "code",
   "execution_count": 25,
   "id": "358e7ab2",
   "metadata": {},
   "outputs": [
    {
     "data": {
      "text/plain": [
       "'https://www.amazon.com/gp/slredirect/picassoRedirect.html/ref=pa_sp_atf_browse_electronics-intl-ship_sr_pg1_1?ie=UTF8&adId=A10103512VYJ7QZ2M27SM&url=%2FBulk-Classroom-Headphones-Classrooms-Comfortable%2Fdp%2FB07L4JFR3Q%2Fref%3Dsr_1_1_sspa%3Fqid%3D1644647833%26rnid%3D386442011%26s%3Delectronics%26sr%3D1-1-spons%26psc%3D1&qualifier=1644647833&id=8542828962052754&widgetName=sp_atf_browse'"
      ]
     },
     "execution_count": 25,
     "metadata": {},
     "output_type": "execute_result"
    }
   ],
   "source": [
    "link = \"https://www.amazon.com\"+card.find(\"div\", class_ = \"a-section\").find(\"a\").get('href')\n",
    "link"
   ]
  },
  {
   "cell_type": "markdown",
   "id": "7808265d",
   "metadata": {},
   "source": [
    "### getting product's name"
   ]
  },
  {
   "cell_type": "code",
   "execution_count": 23,
   "id": "0c6dc761",
   "metadata": {},
   "outputs": [],
   "source": [
    "name = card.find(\"div\", class_ = \"a-section\").find(\"h2\").find(\"span\").text.strip()"
   ]
  },
  {
   "cell_type": "code",
   "execution_count": 24,
   "id": "145be99f",
   "metadata": {},
   "outputs": [
    {
     "data": {
      "text/plain": [
       "'Bulk Classroom Headphones (10 Pack) - On-Ear Premium Student Headsets: Perfect for Kids K-12 in Classrooms, Schools & Class Sets (Great Value, Durable, Noise Reducing, Comfortable Fit, Easy to Clean)'"
      ]
     },
     "execution_count": 24,
     "metadata": {},
     "output_type": "execute_result"
    }
   ],
   "source": [
    "name"
   ]
  },
  {
   "cell_type": "markdown",
   "id": "e0cfd6b8",
   "metadata": {},
   "source": [
    "### getting product's prices (with and without any discounts)"
   ]
  },
  {
   "cell_type": "code",
   "execution_count": 26,
   "id": "a76899e8",
   "metadata": {},
   "outputs": [],
   "source": [
    "prices = card.findAll(\"span\", class_ = \"a-offscreen\")"
   ]
  },
  {
   "cell_type": "code",
   "execution_count": 30,
   "id": "e5d1d5a8",
   "metadata": {},
   "outputs": [
    {
     "data": {
      "text/plain": [
       "'$99.99'"
      ]
     },
     "execution_count": 30,
     "metadata": {},
     "output_type": "execute_result"
    }
   ],
   "source": [
    "price = prices[0].text\n",
    "price"
   ]
  },
  {
   "cell_type": "code",
   "execution_count": 31,
   "id": "fb2ac94a",
   "metadata": {},
   "outputs": [
    {
     "data": {
      "text/plain": [
       "'$119.99'"
      ]
     },
     "execution_count": 31,
     "metadata": {},
     "output_type": "execute_result"
    }
   ],
   "source": [
    "noDiscountPrice = prices[1].text\n",
    "noDiscountPrice"
   ]
  },
  {
   "cell_type": "markdown",
   "id": "8b0f2d87",
   "metadata": {},
   "source": [
    "### getting product's rewiew rating"
   ]
  },
  {
   "cell_type": "code",
   "execution_count": 35,
   "id": "c24a7196",
   "metadata": {},
   "outputs": [
    {
     "data": {
      "text/plain": [
       "'4.4'"
      ]
     },
     "execution_count": 35,
     "metadata": {},
     "output_type": "execute_result"
    }
   ],
   "source": [
    "Avg_review_outof5 = card.find(\"span\", class_ = \"a-icon-alt\").text.split(\" \")[0]\n",
    "Avg_review_outof5"
   ]
  },
  {
   "cell_type": "markdown",
   "id": "885d7639",
   "metadata": {},
   "source": [
    "### getting the amount of product's reviews"
   ]
  },
  {
   "cell_type": "code",
   "execution_count": 37,
   "id": "a8207809",
   "metadata": {},
   "outputs": [
    {
     "data": {
      "text/plain": [
       "'478'"
      ]
     },
     "execution_count": 37,
     "metadata": {},
     "output_type": "execute_result"
    }
   ],
   "source": [
    "Reviews_amount = card.find(\"span\", class_ = \"a-size-base s-underline-text\").text\n",
    "Reviews_amount"
   ]
  },
  {
   "cell_type": "markdown",
   "id": "b1108fb8",
   "metadata": {},
   "source": [
    "### clicking on the \"next page\" button"
   ]
  },
  {
   "cell_type": "code",
   "execution_count": 39,
   "id": "d513dde8",
   "metadata": {},
   "outputs": [],
   "source": [
    "browser.find_element(By.CLASS_NAME, \"s-pagination-next\").click()"
   ]
  },
  {
   "cell_type": "markdown",
   "id": "7bedd43a",
   "metadata": {},
   "source": [
    "# Final Code"
   ]
  },
  {
   "cell_type": "code",
   "execution_count": 3,
   "id": "ac3e5305",
   "metadata": {},
   "outputs": [
    {
     "name": "stderr",
     "output_type": "stream",
     "text": [
      "100%|██████████| 14/14 [00:57<00:00,  4.14s/it]\n"
     ]
    }
   ],
   "source": [
    "data = []\n",
    "\n",
    "s = Service(\"./chromedriver\")\n",
    "browser = Chrome(service = s)\n",
    "url = \"https://www.amazon.com/s?i=electronics-intl-ship&bbn=16225009011&rh=n%3A16225009011%2Cn%3A172541&s=featured-rank&qid=1644647363&rnid=386442011&ref=sr_st_featured-rank\"\n",
    "browser.get(url)\n",
    "\n",
    "sleep(3)\n",
    "\n",
    "soup = BeautifulSoup(browser.page_source, \"lxml\")\n",
    "\n",
    "for i in tqdm(range(1,15)):\n",
    "    sleep(4)\n",
    "    cards = soup.findAll(\"div\", class_ = \"s-card-container s-overflow-hidden aok-relative s-expand-height s-include-content-margin s-latency-cf-section s-card-border\")\n",
    "    for card in cards:\n",
    "        try:\n",
    "            link = \"https://www.amazon.com\"+card.find(\"div\", class_ = \"a-section\").find(\"a\").get('href')\n",
    "        except:\n",
    "            link = \"\"\n",
    "        try:\n",
    "            name = card.find(\"div\", class_ = \"a-section\").find(\"h2\").find(\"span\").text.strip()\n",
    "        except:\n",
    "            name =\"\"\n",
    "        try:\n",
    "            price = card.findAll(\"span\", class_ = \"a-offscreen\")[0].text\n",
    "        except:\n",
    "            price = \"-\"\n",
    "        try:\n",
    "            noDiscountPrice = card.findAll(\"span\", class_ = \"a-offscreen\")[1].text\n",
    "        except:\n",
    "            noDiscountPrice = price\n",
    "        try:\n",
    "            Avg_review_outof5 = card.find(\"span\", class_ = \"a-icon-alt\").text.split(\" \")[0]\n",
    "        except:\n",
    "            Avg_review_outof5 = \"\"\n",
    "        try:\n",
    "            Reviews_amount = card.find(\"span\", class_ = \"a-size-base s-underline-text\").text\n",
    "        except:\n",
    "            Reviews_amount = \"\"\n",
    "        \n",
    "        data.append([name, price, noDiscountPrice, Avg_review_outof5, Reviews_amount, link])\n",
    "    \n",
    "    try:\n",
    "        browser.find_element(By.CLASS_NAME, \"s-pagination-next\").click()\n",
    "    except:\n",
    "        break\n",
    "\n",
    "headers = [\"name\", \"price\", \"noDiscountPrice\", \"Avg_review_outof5\", \"Reviews_amount\", \"link\"]\n",
    "df = pd.DataFrame(data, columns = headers)\n",
    "df.to_csv(\"./amazon.csv\", sep = \";\", encoding = \"utf8\")"
   ]
  }
 ],
 "metadata": {
  "kernelspec": {
   "display_name": "Python 3",
   "language": "python",
   "name": "python3"
  },
  "language_info": {
   "codemirror_mode": {
    "name": "ipython",
    "version": 3
   },
   "file_extension": ".py",
   "mimetype": "text/x-python",
   "name": "python",
   "nbconvert_exporter": "python",
   "pygments_lexer": "ipython3",
   "version": "3.8.8"
  }
 },
 "nbformat": 4,
 "nbformat_minor": 5
}
